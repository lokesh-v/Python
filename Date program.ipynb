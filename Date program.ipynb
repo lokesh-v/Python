{
 "cells": [
  {
   "cell_type": "markdown",
   "metadata": {},
   "source": [
    "# To print day from the given date using Quants Logic"
   ]
  },
  {
   "cell_type": "code",
   "execution_count": 1,
   "metadata": {},
   "outputs": [],
   "source": [
    "def date_check(day,month,year):\n",
    "    if not(month <= 12 and day <= 31 and (year >= 1600 and year <= 2099)):\n",
    "        print('Invalid date')\n",
    "    else:\n",
    "        two_digits  = int(str(year)[-2:])\n",
    "        year_trick = year_logic(year)\n",
    "        month_trick = {1:0,2:3,3:3,4:6,5:1,6:4,7:6,8:2,9:5,10:0,11:3,12:5}\n",
    "        days = (two_digits+int(two_digits/4)+day+month_trick[month]+year_trick)%7\n",
    "        name_of_the_day = {0 : 'Sunday', 1: 'Monday',2 : 'Tuesday',3 : 'Wednesday',4 : 'Thursday',5 : 'Friday',6 : 'Saturday'}\n",
    "        print('\\n',name_of_the_day[days])\n",
    "\n",
    "        \n",
    "    \n",
    "def year_logic(year):\n",
    "    year_trick = 0\n",
    "    if(year >= 1600 and year < 1699):\n",
    "        year_trick = 6\n",
    "        return year_trick\n",
    "    elif(year >= 1700 and year < 1799):\n",
    "        year_trick = 4\n",
    "        return year_trick\n",
    "    elif(year >= 1800 and year < 1899):\n",
    "        year_trick = 2\n",
    "        return year_trick\n",
    "    elif(year >= 1900 and year < 1999):\n",
    "        year_trick = 0\n",
    "        return year_trick\n",
    "    else:\n",
    "        year_trick = 6\n",
    "        return year_trick\n",
    "\n",
    "        "
   ]
  },
  {
   "cell_type": "code",
   "execution_count": 5,
   "metadata": {},
   "outputs": [
    {
     "name": "stdout",
     "output_type": "stream",
     "text": [
      "Enter date(eg. DD-MM-YY) = 13-12-2019\n",
      "\n",
      " Friday\n"
     ]
    }
   ],
   "source": [
    "#This code works only from the years between 1600 to 2099\n",
    "date =  input(\"Enter date(eg. DD-MM-YY) = \")\n",
    "date2 = date.split('-')\n",
    "date3= list(map(int,date2))\n",
    "day = date3[0]\n",
    "month = date3[1]\n",
    "year = date3[2]\n",
    "date_check(day,month,year)\n",
    "\n",
    "\n"
   ]
  }
 ],
 "metadata": {
  "kernelspec": {
   "display_name": "Python 3",
   "language": "python",
   "name": "python3"
  },
  "language_info": {
   "codemirror_mode": {
    "name": "ipython",
    "version": 3
   },
   "file_extension": ".py",
   "mimetype": "text/x-python",
   "name": "python",
   "nbconvert_exporter": "python",
   "pygments_lexer": "ipython3",
   "version": "3.7.3"
  }
 },
 "nbformat": 4,
 "nbformat_minor": 2
}

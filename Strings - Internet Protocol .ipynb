{
 "cells": [
  {
   "cell_type": "code",
   "execution_count": 3,
   "metadata": {},
   "outputs": [
    {
     "name": "stdout",
     "output_type": "stream",
     "text": [
      "4\n",
      "httpsunrux\n",
      "http://sun.ru/x\n",
      "\n",
      "ftphttprururu\n",
      "ftp://http.ru/ruru\n",
      "\n",
      "httpftpru\n",
      "http://ftp.ru/\n",
      "\n",
      "ftpruftp\n",
      "ftp://.ru/ftp\n",
      "\n"
     ]
    }
   ],
   "source": [
    "n = int(input()) # Enter no of inputs\n",
    "\n",
    "for a in range(1,n+1):\n",
    "    s = input() # getting input\n",
    "    if(s[0]== 'h'):\n",
    "        print('http://',end='')\n",
    "        for i in range(4,len(s)):\n",
    "            if(s[i] == 'r' and s[i+1] == 'u'):\n",
    "                break\n",
    "            print(s[i],end='')\n",
    "    \n",
    "        print(\".ru/\",end='')\n",
    "    \n",
    "        for j in range(i+2,len(s)):\n",
    "            print(s[j],end='')\n",
    "            \n",
    "    \n",
    "    elif(s[0] == 'f'):\n",
    "        print('ftp://',end='')\n",
    "        for i in range(3,len(s)):\n",
    "            if(s[i]== 'r' and s[i+1]=='u'):\n",
    "                break\n",
    "            print(s[i],end='')  \n",
    "        print(\".ru/\",end='')\n",
    "    \n",
    "        for j in range(i+2,len(s)):\n",
    "            print(s[j],end='')\n",
    "\n",
    "    print(\"\\n\")\n"
   ]
  }
 ],
 "metadata": {
  "kernelspec": {
   "display_name": "Python 3",
   "language": "python",
   "name": "python3"
  }
 },
 "nbformat": 4,
 "nbformat_minor": 2
}
